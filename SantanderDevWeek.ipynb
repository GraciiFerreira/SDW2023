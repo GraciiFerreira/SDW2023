{
  "nbformat": 4,
  "nbformat_minor": 0,
  "metadata": {
    "colab": {
      "provenance": [],
      "authorship_tag": "ABX9TyPzpN963Jy07EGqoRKjzrUt",
      "include_colab_link": true
    },
    "kernelspec": {
      "name": "python3",
      "display_name": "Python 3"
    },
    "language_info": {
      "name": "python"
    }
  },
  "cells": [
    {
      "cell_type": "markdown",
      "metadata": {
        "id": "view-in-github",
        "colab_type": "text"
      },
      "source": [
        "<a href=\"https://colab.research.google.com/github/GraciiFerreira/SDW2023/blob/main/SantanderDevWeek.ipynb\" target=\"_parent\"><img src=\"https://colab.research.google.com/assets/colab-badge.svg\" alt=\"Open In Colab\"/></a>"
      ]
    },
    {
      "cell_type": "code",
      "execution_count": null,
      "metadata": {
        "id": "QI4LqiEeIVJ6",
        "colab": {
          "base_uri": "https://localhost:8080/"
        },
        "outputId": "2ef56f11-984f-4554-a3fa-7b006a53b937"
      },
      "outputs": [
        {
          "output_type": "stream",
          "name": "stdout",
          "text": [
            "     ddc     Address  longitude  Latitude\n",
            "0  DDC01  abc street    28.3314  -25.7203\n",
            "1  DDC02  abc street    28.3114  -25.7387\n",
            "2  DDC03  abc street    28.3258  -25.7504\n",
            "3  DDC04  abc street    28.3459  -25.7127\n",
            "4  DDC05  abc street    28.3459  -25.7127\n",
            "5  DDC06  abc street    28.3584  -25.7314\n"
          ]
        }
      ],
      "source": [
        "import pandas as pd\n",
        "\n",
        "datapath = \"planilhateste.xlsx\"\n",
        "\n",
        "data = pd.read_excel(datapath)\n",
        "print(data)\n"
      ]
    },
    {
      "cell_type": "code",
      "source": [
        "import pandas as pd\n",
        "import json\n",
        "\n",
        "arquivo_xlsx = 'planilhateste.xlsx'\n",
        "arquivo_json = 'dados.json'\n",
        "\n",
        "df = pd.read_excel(arquivo_xlsx)\n",
        "\n",
        "dados_json = df.to_dict(orient='records')\n",
        "\n",
        "with open(arquivo_json, 'w') as arquivo_json:\n",
        "    json.dump(dados_json, arquivo_json, indent=4)\n",
        "\n",
        "print(f\"O arquivo JSON '{arquivo_json}' foi criado com sucesso!\")\n"
      ],
      "metadata": {
        "colab": {
          "base_uri": "https://localhost:8080/"
        },
        "id": "IyPusaV1wrBS",
        "outputId": "2eb99c6e-0f96-4573-a43d-f0d5021ca874"
      },
      "execution_count": null,
      "outputs": [
        {
          "output_type": "stream",
          "name": "stdout",
          "text": [
            "O arquivo JSON '<_io.TextIOWrapper name='dados.json' mode='w' encoding='UTF-8'>' foi criado com sucesso!\n"
          ]
        }
      ]
    },
    {
      "cell_type": "code",
      "source": [
        "!pip install pymongo"
      ],
      "metadata": {
        "colab": {
          "base_uri": "https://localhost:8080/"
        },
        "id": "tV-K90wB_z0M",
        "outputId": "84f95e91-6610-45d6-ed86-36c1ba1a4611"
      },
      "execution_count": null,
      "outputs": [
        {
          "output_type": "stream",
          "name": "stdout",
          "text": [
            "Collecting pymongo\n",
            "  Downloading pymongo-4.5.0-cp310-cp310-manylinux_2_17_x86_64.manylinux2014_x86_64.whl (671 kB)\n",
            "\u001b[2K     \u001b[90m━━━━━━━━━━━━━━━━━━━━━━━━━━━━━━━━━━━━━━━\u001b[0m \u001b[32m671.3/671.3 kB\u001b[0m \u001b[31m8.1 MB/s\u001b[0m eta \u001b[36m0:00:00\u001b[0m\n",
            "\u001b[?25hCollecting dnspython<3.0.0,>=1.16.0 (from pymongo)\n",
            "  Downloading dnspython-2.4.2-py3-none-any.whl (300 kB)\n",
            "\u001b[2K     \u001b[90m━━━━━━━━━━━━━━━━━━━━━━━━━━━━━━━━━━━━━━\u001b[0m \u001b[32m300.4/300.4 kB\u001b[0m \u001b[31m12.3 MB/s\u001b[0m eta \u001b[36m0:00:00\u001b[0m\n",
            "\u001b[?25hInstalling collected packages: dnspython, pymongo\n",
            "Successfully installed dnspython-2.4.2 pymongo-4.5.0\n"
          ]
        }
      ]
    },
    {
      "cell_type": "code",
      "source": [
        "import pymongo\n",
        "\n",
        "cliente = pymongo.MongoClient(\"localhost\", 27017)\n",
        "banco_de_dados = cliente[\"mydb\"]\n",
        "colecao = banco_de_dados[\"teste\"]\n",
        "\n",
        "def ler_e_inserir_json():\n",
        "    colecao.delete_many({})\n",
        "    with open(\"dados.json\", \"r\") as arquivo_json:\n",
        "        dados_json = json.load(arquivo_json)\n",
        "    colecao.insert_many(dados_json)\n",
        "\n",
        "def obter_dados_do_mongodb():\n",
        "    dados = list(colecao.find({}, {'_id': 0}))\n",
        "    return dados\n"
      ],
      "metadata": {
        "id": "Y7UQiQH2T2Dd"
      },
      "execution_count": null,
      "outputs": []
    }
  ]
}